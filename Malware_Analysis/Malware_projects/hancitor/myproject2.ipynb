{
 "cells": [
  {
   "cell_type": "code",
   "execution_count": 1,
   "metadata": {},
   "outputs": [],
   "source": [
    "#import libraries\n",
    "import lief\n",
    "import os\n",
    "from capstone import *\n",
    "import re"
   ]
  },
  {
   "cell_type": "code",
   "execution_count": 2,
   "metadata": {},
   "outputs": [],
   "source": [
    "# Find Rc4 algo \n",
    "def find_pattern(pattern,data):\n",
    "    instruct = []\n",
    "    string = \"\"\n",
    "    algo_bytes = data[re.search(pattern,data).start():re.search(pattern,data).end()]\n",
    "    md = Cs(CS_ARCH_X86, CS_MODE_32)\n",
    "    md.detail = True\n",
    "    \n",
    "    for i in md.disasm(algo_bytes, 0):\n",
    "        \n",
    "        string = i.mnemonic  + ' ' + i.op_str\n",
    "        instruct.append(string)\n",
    "  \n",
    "    return instruct "
   ]
  },
  {
   "cell_type": "code",
   "execution_count": 3,
   "metadata": {},
   "outputs": [],
   "source": [
    "def parse_binary(binary):\n",
    "   pe = lief.parse(binary)\n",
    "   section = pe.get_section(\".text\") \n",
    "   hex_data = ''.join(format(x, '02x') for x in section.content)\n",
    "   transform = bytearray.fromhex(hex_data)\n",
    "   \n",
    "   return transform"
   ]
  },
  {
   "cell_type": "code",
   "execution_count": 4,
   "metadata": {},
   "outputs": [],
   "source": [
    "def get_instructions(file):\n",
    "\n",
    "    data = parse_binary(file)\n",
    "    pattern = rb'(...)\\x50(...)\\x51(...)\\x52\\x68(..)\\x00\\x00(...)\\x50\\xff\\x15(....)'\n",
    "    pattern2 = rb'(...)\\x50\\x68\\x11\\x00\\x28\\x00\\xff\\x75\\xfc\\x68(..)\\x00\\x00(...)\\xff\\x15\\x18(...)'\n",
    "\n",
    "    if re.search(pattern,data):\n",
    "        print('pattern 1 found')\n",
    "        return find_pattern(pattern,data)\n",
    "\n",
    "    elif re.search(pattern2,data):\n",
    "        print('pattern 2 found')\n",
    "        return find_pattern(pattern2,data)\n",
    "        \n",
    "    else:\n",
    "        return rb'(\\x90\\x90\\x90)'"
   ]
  },
  {
   "cell_type": "code",
   "execution_count": 5,
   "metadata": {},
   "outputs": [],
   "source": [
    "def Jaccard_Similarity(x, y):\n",
    "\n",
    "    intersection_cardinality = len(list(set(x).intersection(y)))\n",
    "    union_cardinality = (len(x) + len(y)) - intersection_cardinality\n",
    "    return float(intersection_cardinality) / union_cardinality"
   ]
  },
  {
   "cell_type": "code",
   "execution_count": 6,
   "metadata": {},
   "outputs": [
    {
     "name": "stdout",
     "output_type": "stream",
     "text": [
      "pattern 1 found\n",
      "./Hancitor/Hancitor3.bin ---> ['lea eax, [ebp - 0xc]', 'push eax', 'mov ecx, dword ptr [ebp - 0x14]', 'push ecx', 'mov edx, dword ptr [ebp - 4]', 'push edx', 'push 0x6801', 'mov eax, dword ptr [ebp - 8]', 'push eax', 'call dword ptr [0x584018]'] \n",
      "\n",
      "pattern 1 found\n",
      "./Hancitor/Hancitor2.bin ---> ['lea eax, [ebp - 0xc]', 'push eax', 'mov ecx, dword ptr [ebp - 0x14]', 'push ecx', 'mov edx, dword ptr [ebp - 4]', 'push edx', 'push 0x6801', 'mov eax, dword ptr [ebp - 8]', 'push eax', 'call dword ptr [0x5c4018]'] \n",
      "\n",
      "pattern 1 found\n",
      "./Hancitor/Hancitor8.bin ---> ['lea eax, [ebp - 0xc]', 'push eax', 'mov ecx, dword ptr [ebp - 0x14]', 'push ecx', 'mov edx, dword ptr [ebp - 4]', 'push edx', 'push 0x6801', 'mov eax, dword ptr [ebp - 8]', 'push eax', 'call dword ptr [0x5c4018]'] \n",
      "\n",
      "pattern 1 found\n",
      "./Hancitor/Hancitor9.bin ---> ['lea eax, [ebp - 0xc]', 'push eax', 'mov ecx, dword ptr [ebp - 0x14]', 'push ecx', 'mov edx, dword ptr [ebp - 4]', 'push edx', 'push 0x6801', 'mov eax, dword ptr [ebp - 8]', 'push eax', 'call dword ptr [0x3004018]'] \n",
      "\n",
      "pattern 1 found\n",
      "./Hancitor/Hancitor4.bin ---> ['lea eax, [ebp - 0xc]', 'push eax', 'mov ecx, dword ptr [ebp - 0x14]', 'push ecx', 'mov edx, dword ptr [ebp - 4]', 'push edx', 'push 0x6801', 'mov eax, dword ptr [ebp - 8]', 'push eax', 'call dword ptr [0x2b44018]'] \n",
      "\n",
      "pattern 2 found\n",
      "./Hancitor/Hancitor1.bin ---> ['lea eax, [ebp - 8]', 'push eax', 'push 0x280011', 'push dword ptr [ebp - 4]', 'push 0x6801', 'push dword ptr [ebp - 0xc]', 'call dword ptr [0x10003018]'] \n",
      "\n",
      "pattern 1 found\n",
      "./Hancitor/Hancitor7.bin ---> ['lea eax, [ebp - 0xc]', 'push eax', 'mov ecx, dword ptr [ebp - 0x14]', 'push ecx', 'mov edx, dword ptr [ebp - 4]', 'push edx', 'push 0x6801', 'mov eax, dword ptr [ebp - 8]', 'push eax', 'call dword ptr [0x564018]'] \n",
      "\n",
      "pattern 2 found\n",
      "./Hancitor/Hancitor10.bin ---> ['lea eax, [ebp - 8]', 'push eax', 'push 0x280011', 'push dword ptr [ebp - 4]', 'push 0x6801', 'push dword ptr [ebp - 0xc]', 'call dword ptr [0x10003018]'] \n",
      "\n",
      "pattern 1 found\n",
      "./Hancitor/Hancitor5.bin ---> ['lea eax, [ebp - 0xc]', 'push eax', 'mov ecx, dword ptr [ebp - 0x14]', 'push ecx', 'mov edx, dword ptr [ebp - 4]', 'push edx', 'push 0x6801', 'mov eax, dword ptr [ebp - 8]', 'push eax', 'call dword ptr [0x404014]'] \n",
      "\n",
      "pattern 1 found\n",
      "./Hancitor/Hancitor6.bin ---> ['lea eax, [ebp - 0xc]', 'push eax', 'mov ecx, dword ptr [ebp - 0x14]', 'push ecx', 'mov edx, dword ptr [ebp - 4]', 'push edx', 'push 0x6801', 'mov eax, dword ptr [ebp - 8]', 'push eax', 'call dword ptr [0xa04018]'] \n",
      "\n",
      "Similarity between ./Hancitor/Hancitor3.bin and ./Hancitor/Hancitor2.bin = 0.6666666666666666\n",
      "Similarity between ./Hancitor/Hancitor3.bin and ./Hancitor/Hancitor8.bin = 0.6666666666666666\n",
      "Similarity between ./Hancitor/Hancitor3.bin and ./Hancitor/Hancitor9.bin = 0.6666666666666666\n",
      "Similarity between ./Hancitor/Hancitor3.bin and ./Hancitor/Hancitor4.bin = 0.6666666666666666\n",
      "Similarity between ./Hancitor/Hancitor3.bin and ./Hancitor/Hancitor1.bin = 0.13333333333333333\n",
      "Similarity between ./Hancitor/Hancitor3.bin and ./Hancitor/Hancitor7.bin = 0.6666666666666666\n",
      "Similarity between ./Hancitor/Hancitor3.bin and ./Hancitor/Hancitor10.bin = 0.13333333333333333\n",
      "Similarity between ./Hancitor/Hancitor3.bin and ./Hancitor/Hancitor5.bin = 0.6666666666666666\n",
      "Similarity between ./Hancitor/Hancitor3.bin and ./Hancitor/Hancitor6.bin = 0.6666666666666666\n",
      "Similarity between ./Hancitor/Hancitor2.bin and ./Hancitor/Hancitor8.bin = 0.8181818181818182\n",
      "Similarity between ./Hancitor/Hancitor2.bin and ./Hancitor/Hancitor9.bin = 0.6666666666666666\n",
      "Similarity between ./Hancitor/Hancitor2.bin and ./Hancitor/Hancitor4.bin = 0.6666666666666666\n",
      "Similarity between ./Hancitor/Hancitor2.bin and ./Hancitor/Hancitor1.bin = 0.13333333333333333\n",
      "Similarity between ./Hancitor/Hancitor2.bin and ./Hancitor/Hancitor7.bin = 0.6666666666666666\n",
      "Similarity between ./Hancitor/Hancitor2.bin and ./Hancitor/Hancitor10.bin = 0.13333333333333333\n",
      "Similarity between ./Hancitor/Hancitor2.bin and ./Hancitor/Hancitor5.bin = 0.6666666666666666\n",
      "Similarity between ./Hancitor/Hancitor2.bin and ./Hancitor/Hancitor6.bin = 0.6666666666666666\n",
      "Similarity between ./Hancitor/Hancitor8.bin and ./Hancitor/Hancitor9.bin = 0.6666666666666666\n",
      "Similarity between ./Hancitor/Hancitor8.bin and ./Hancitor/Hancitor4.bin = 0.6666666666666666\n",
      "Similarity between ./Hancitor/Hancitor8.bin and ./Hancitor/Hancitor1.bin = 0.13333333333333333\n",
      "Similarity between ./Hancitor/Hancitor8.bin and ./Hancitor/Hancitor7.bin = 0.6666666666666666\n",
      "Similarity between ./Hancitor/Hancitor8.bin and ./Hancitor/Hancitor10.bin = 0.13333333333333333\n",
      "Similarity between ./Hancitor/Hancitor8.bin and ./Hancitor/Hancitor5.bin = 0.6666666666666666\n",
      "Similarity between ./Hancitor/Hancitor8.bin and ./Hancitor/Hancitor6.bin = 0.6666666666666666\n",
      "Similarity between ./Hancitor/Hancitor9.bin and ./Hancitor/Hancitor4.bin = 0.6666666666666666\n",
      "Similarity between ./Hancitor/Hancitor9.bin and ./Hancitor/Hancitor1.bin = 0.13333333333333333\n",
      "Similarity between ./Hancitor/Hancitor9.bin and ./Hancitor/Hancitor7.bin = 0.6666666666666666\n",
      "Similarity between ./Hancitor/Hancitor9.bin and ./Hancitor/Hancitor10.bin = 0.13333333333333333\n",
      "Similarity between ./Hancitor/Hancitor9.bin and ./Hancitor/Hancitor5.bin = 0.6666666666666666\n",
      "Similarity between ./Hancitor/Hancitor9.bin and ./Hancitor/Hancitor6.bin = 0.6666666666666666\n",
      "Similarity between ./Hancitor/Hancitor4.bin and ./Hancitor/Hancitor1.bin = 0.13333333333333333\n",
      "Similarity between ./Hancitor/Hancitor4.bin and ./Hancitor/Hancitor7.bin = 0.6666666666666666\n",
      "Similarity between ./Hancitor/Hancitor4.bin and ./Hancitor/Hancitor10.bin = 0.13333333333333333\n",
      "Similarity between ./Hancitor/Hancitor4.bin and ./Hancitor/Hancitor5.bin = 0.6666666666666666\n",
      "Similarity between ./Hancitor/Hancitor4.bin and ./Hancitor/Hancitor6.bin = 0.6666666666666666\n",
      "Similarity between ./Hancitor/Hancitor1.bin and ./Hancitor/Hancitor7.bin = 0.13333333333333333\n",
      "Similarity between ./Hancitor/Hancitor1.bin and ./Hancitor/Hancitor10.bin = 1.0\n",
      "Similarity between ./Hancitor/Hancitor1.bin and ./Hancitor/Hancitor5.bin = 0.13333333333333333\n",
      "Similarity between ./Hancitor/Hancitor1.bin and ./Hancitor/Hancitor6.bin = 0.13333333333333333\n",
      "Similarity between ./Hancitor/Hancitor7.bin and ./Hancitor/Hancitor10.bin = 0.13333333333333333\n",
      "Similarity between ./Hancitor/Hancitor7.bin and ./Hancitor/Hancitor5.bin = 0.6666666666666666\n",
      "Similarity between ./Hancitor/Hancitor7.bin and ./Hancitor/Hancitor6.bin = 0.6666666666666666\n",
      "Similarity between ./Hancitor/Hancitor10.bin and ./Hancitor/Hancitor5.bin = 0.13333333333333333\n",
      "Similarity between ./Hancitor/Hancitor10.bin and ./Hancitor/Hancitor6.bin = 0.13333333333333333\n",
      "Similarity between ./Hancitor/Hancitor5.bin and ./Hancitor/Hancitor6.bin = 0.6666666666666666\n"
     ]
    }
   ],
   "source": [
    "#Parse each file within the directory path \n",
    "\n",
    "MIN_SIMILARITY = 0.6\n",
    "file_instructs = dict()\n",
    "binaries = []\n",
    "\n",
    "for file in os.listdir('Hancitor'):\n",
    "    binaries.append(os.path.join('./Hancitor',file))\n",
    "\n",
    "for bin in binaries:\n",
    "    instruct = get_instructions(bin)\n",
    "    file_instructs[bin] = instruct\n",
    "    print(bin, '--->',instruct,'\\n')\n",
    "\n",
    "\n",
    "keys = list(file_instructs.keys())  \n",
    "similarities = []\n",
    "for i in range(len(keys)):\n",
    "    for j in range(i+1, len(keys)):\n",
    "        f1 = file_instructs[keys[i]]\n",
    "        f2 = file_instructs[keys[j]]\n",
    "        similarity = Jaccard_Similarity(f1,f2)\n",
    "       \n",
    "        print('Similarity between', keys[i], 'and', keys[j],'=', similarity)\n",
    "        # Min similarity is set to 6\n",
    "        if similarity < MIN_SIMILARITY:\n",
    "            similarities.append((keys[i], keys[j], similarity))"
   ]
  },
  {
   "cell_type": "code",
   "execution_count": 7,
   "metadata": {},
   "outputs": [
    {
     "name": "stdout",
     "output_type": "stream",
     "text": [
      "\n",
      "            Binary_1                  Binary_2                     Similarity\n",
      "----------------------------------------------------------------------------------------------------\n",
      "            Hancitor3.bin             Hancitor1.bin                 0.13\n",
      "            Hancitor3.bin            Hancitor10.bin                 0.13\n",
      "            Hancitor2.bin             Hancitor1.bin                 0.13\n",
      "            Hancitor2.bin            Hancitor10.bin                 0.13\n",
      "            Hancitor8.bin             Hancitor1.bin                 0.13\n",
      "            Hancitor8.bin            Hancitor10.bin                 0.13\n",
      "            Hancitor9.bin             Hancitor1.bin                 0.13\n",
      "            Hancitor9.bin            Hancitor10.bin                 0.13\n",
      "            Hancitor4.bin             Hancitor1.bin                 0.13\n",
      "            Hancitor4.bin            Hancitor10.bin                 0.13\n",
      "            Hancitor1.bin             Hancitor7.bin                 0.13\n",
      "            Hancitor1.bin             Hancitor5.bin                 0.13\n",
      "            Hancitor1.bin             Hancitor6.bin                 0.13\n",
      "            Hancitor7.bin            Hancitor10.bin                 0.13\n",
      "           Hancitor10.bin             Hancitor5.bin                 0.13\n",
      "           Hancitor10.bin             Hancitor6.bin                 0.13\n"
     ]
    }
   ],
   "source": [
    "print()\n",
    "print('%20s %25s %30s' % ('Binary_1', 'Binary_2', 'Similarity'))\n",
    "print('-' * 100)\n",
    "for sim_item in similarities:\n",
    "    print('%25s %25s %20.2f' % (sim_item[0][11:30], sim_item[1][11:30], sim_item[2]))"
   ]
  },
  {
   "cell_type": "code",
   "execution_count": null,
   "metadata": {},
   "outputs": [],
   "source": []
  }
 ],
 "metadata": {
  "kernelspec": {
   "display_name": "Python 3.9.2 64-bit",
   "language": "python",
   "name": "python3"
  },
  "language_info": {
   "codemirror_mode": {
    "name": "ipython",
    "version": 3
   },
   "file_extension": ".py",
   "mimetype": "text/x-python",
   "name": "python",
   "nbconvert_exporter": "python",
   "pygments_lexer": "ipython3",
   "version": "3.9.2"
  },
  "orig_nbformat": 4,
  "vscode": {
   "interpreter": {
    "hash": "916dbcbb3f70747c44a77c7bcd40155683ae19c65e1c03b4aa3499c5328201f1"
   }
  }
 },
 "nbformat": 4,
 "nbformat_minor": 2
}
