{
 "cells": [
  {
   "cell_type": "code",
   "execution_count": 2,
   "metadata": {},
   "outputs": [],
   "source": [
    "#import library\n",
    "import lief"
   ]
  },
  {
   "cell_type": "code",
   "execution_count": 5,
   "metadata": {},
   "outputs": [],
   "source": [
    "path = \"/home/crovax/Malware_Research/Malware_projects/Hancitor1.bin\"\n",
    "binary = lief.parse(path)"
   ]
  },
  {
   "cell_type": "code",
   "execution_count": 29,
   "metadata": {},
   "outputs": [
    {
     "name": "stdout",
     "output_type": "stream",
     "text": [
      "['WININET.dll', 'IPHLPAPI.DLL', 'NETAPI32.dll', 'ntdll.dll', 'KERNEL32.dll', 'USER32.dll', 'ADVAPI32.dll']\n"
     ]
    }
   ],
   "source": [
    "# create a list to store each library retrieved from the binary search\n",
    "# then print the list\n",
    "my_library = []\n",
    "for library in binary.libraries:\n",
    "    my_library.append(library)\n",
    "\n",
    "print(my_library)"
   ]
  },
  {
   "cell_type": "code",
   "execution_count": 31,
   "metadata": {},
   "outputs": [
    {
     "name": "stdout",
     "output_type": "stream",
     "text": [
      "['InternetOpenA', 'HttpSendRequestA', 'InternetCloseHandle', 'HttpQueryInfoA', 'InternetCrackUrlA', 'HttpOpenRequestA', 'InternetSetOptionA', 'InternetQueryOptionA', 'InternetReadFile', 'InternetConnectA', 'GetAdaptersAddresses', 'DsEnumerateDomainTrustsA', 'RtlDecompressBuffer', 'K32GetProcessImageFileNameA', 'K32EnumProcesses', 'GetComputerNameA', 'HeapAlloc', 'HeapFree', 'GetProcessHeap', 'Sleep', 'lstrcpyA', 'GetVolumeInformationA', 'GetVersion', 'GetWindowsDirectoryA', 'lstrcatA', 'lstrlenA', 'GetEnvironmentVariableA', 'CreateFileA', 'WriteFile', 'GetTempPathA', 'GetTempFileNameA', 'CloseHandle', 'GetLastError', 'TerminateProcess', 'CreateThread', 'CreateRemoteThread', 'ResumeThread', 'CreateProcessA', 'GetProcessId', 'GetThreadContext', 'SetThreadContext', 'OpenProcess', 'GetSystemInfo', 'VirtualAlloc', 'VirtualFree', 'VirtualAllocEx', 'WriteProcessMemory', 'VirtualFreeEx', 'GetModuleHandleA', 'GetProcAddress', 'LoadLibraryA', 'lstrcmpiA', 'wsprintfA', 'CryptReleaseContext', 'CryptDestroyHash', 'CryptHashData', 'CryptCreateHash', 'CryptDecrypt', 'CryptDestroyKey', 'CryptDeriveKey', 'OpenProcessToken', 'CryptAcquireContextA', 'LookupAccountSidA', 'GetTokenInformation']\n"
     ]
    }
   ],
   "source": [
    "# create list to store each import retrieved from the binary file\n",
    "# then print the results\n",
    "my_imports = []\n",
    "for imp in binary.imported_functions:\n",
    "    my_imports.append(imp.name)\n",
    "\n",
    "print(my_imports)\n"
   ]
  },
  {
   "cell_type": "code",
   "execution_count": null,
   "metadata": {},
   "outputs": [],
   "source": []
  }
 ],
 "metadata": {
  "interpreter": {
   "hash": "916dbcbb3f70747c44a77c7bcd40155683ae19c65e1c03b4aa3499c5328201f1"
  },
  "kernelspec": {
   "display_name": "Python 3.9.2 64-bit",
   "language": "python",
   "name": "python3"
  },
  "language_info": {
   "codemirror_mode": {
    "name": "ipython",
    "version": 3
   },
   "file_extension": ".py",
   "mimetype": "text/x-python",
   "name": "python",
   "nbconvert_exporter": "python",
   "pygments_lexer": "ipython3",
   "version": "3.9.2"
  },
  "orig_nbformat": 4
 },
 "nbformat": 4,
 "nbformat_minor": 2
}
